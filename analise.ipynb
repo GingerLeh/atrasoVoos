{
 "cells": [
  {
   "cell_type": "markdown",
   "metadata": {},
   "source": [
    "# Análise dos dados de atraso de voo e cancelamento em 2015 "
   ]
  },
  {
   "cell_type": "markdown",
   "metadata": {},
   "source": [
    "#### Contexto"
   ]
  },
  {
   "cell_type": "markdown",
   "metadata": {},
   "source": [
    "O Departamento de Estatísticas de Transportes (DOT) dos EUA monitora o desempenho no prazo de voos domésticos operados por grandes transportadoras aéreas. Informações resumidas sobre o número de voos no prazo, atrasados, cancelados e desviados são publicadas no Relatório Mensal do Consumidor de Viagens Aéreas do DOT e neste conjunto de dados de atrasos e cancelamentos de voos de 2015.\n",
    "\n",
    "Base de dados: https://www.kaggle.com/datasets/usdot/flight-delays?resource=download&select=airlines.csv"
   ]
  },
  {
   "cell_type": "markdown",
   "metadata": {},
   "source": [
    "Importação de bibliotecas"
   ]
  },
  {
   "cell_type": "code",
   "execution_count": 73,
   "metadata": {},
   "outputs": [],
   "source": [
    "import numpy as np \n",
    "import pandas as pd \n",
    "import matplotlib.pyplot as plt"
   ]
  },
  {
   "cell_type": "markdown",
   "metadata": {},
   "source": [
    "Importação do arquivo csv"
   ]
  },
  {
   "cell_type": "code",
   "execution_count": 74,
   "metadata": {},
   "outputs": [
    {
     "name": "stderr",
     "output_type": "stream",
     "text": [
      "/var/folders/sw/vbxks35n4tzby0_9v7yr4gr40000gn/T/ipykernel_6361/1435113300.py:1: DtypeWarning: Columns (7,8) have mixed types. Specify dtype option on import or set low_memory=False.\n",
      "  dataset = pd.read_csv('dados/flights.csv')\n"
     ]
    }
   ],
   "source": [
    "dataset = pd.read_csv('dados/flights.csv')"
   ]
  },
  {
   "cell_type": "markdown",
   "metadata": {},
   "source": [
    "Visualização inicial dos dados"
   ]
  },
  {
   "cell_type": "code",
   "execution_count": 75,
   "metadata": {},
   "outputs": [
    {
     "data": {
      "text/html": [
       "<div>\n",
       "<style scoped>\n",
       "    .dataframe tbody tr th:only-of-type {\n",
       "        vertical-align: middle;\n",
       "    }\n",
       "\n",
       "    .dataframe tbody tr th {\n",
       "        vertical-align: top;\n",
       "    }\n",
       "\n",
       "    .dataframe thead th {\n",
       "        text-align: right;\n",
       "    }\n",
       "</style>\n",
       "<table border=\"1\" class=\"dataframe\">\n",
       "  <thead>\n",
       "    <tr style=\"text-align: right;\">\n",
       "      <th></th>\n",
       "      <th>YEAR</th>\n",
       "      <th>MONTH</th>\n",
       "      <th>DAY</th>\n",
       "      <th>DAY_OF_WEEK</th>\n",
       "      <th>AIRLINE</th>\n",
       "      <th>FLIGHT_NUMBER</th>\n",
       "      <th>TAIL_NUMBER</th>\n",
       "      <th>ORIGIN_AIRPORT</th>\n",
       "      <th>DESTINATION_AIRPORT</th>\n",
       "      <th>SCHEDULED_DEPARTURE</th>\n",
       "      <th>...</th>\n",
       "      <th>ARRIVAL_TIME</th>\n",
       "      <th>ARRIVAL_DELAY</th>\n",
       "      <th>DIVERTED</th>\n",
       "      <th>CANCELLED</th>\n",
       "      <th>CANCELLATION_REASON</th>\n",
       "      <th>AIR_SYSTEM_DELAY</th>\n",
       "      <th>SECURITY_DELAY</th>\n",
       "      <th>AIRLINE_DELAY</th>\n",
       "      <th>LATE_AIRCRAFT_DELAY</th>\n",
       "      <th>WEATHER_DELAY</th>\n",
       "    </tr>\n",
       "  </thead>\n",
       "  <tbody>\n",
       "    <tr>\n",
       "      <th>0</th>\n",
       "      <td>2015</td>\n",
       "      <td>1</td>\n",
       "      <td>1</td>\n",
       "      <td>4</td>\n",
       "      <td>AS</td>\n",
       "      <td>98</td>\n",
       "      <td>N407AS</td>\n",
       "      <td>ANC</td>\n",
       "      <td>SEA</td>\n",
       "      <td>5</td>\n",
       "      <td>...</td>\n",
       "      <td>408.0</td>\n",
       "      <td>-22.0</td>\n",
       "      <td>0</td>\n",
       "      <td>0</td>\n",
       "      <td>NaN</td>\n",
       "      <td>NaN</td>\n",
       "      <td>NaN</td>\n",
       "      <td>NaN</td>\n",
       "      <td>NaN</td>\n",
       "      <td>NaN</td>\n",
       "    </tr>\n",
       "    <tr>\n",
       "      <th>1</th>\n",
       "      <td>2015</td>\n",
       "      <td>1</td>\n",
       "      <td>1</td>\n",
       "      <td>4</td>\n",
       "      <td>AA</td>\n",
       "      <td>2336</td>\n",
       "      <td>N3KUAA</td>\n",
       "      <td>LAX</td>\n",
       "      <td>PBI</td>\n",
       "      <td>10</td>\n",
       "      <td>...</td>\n",
       "      <td>741.0</td>\n",
       "      <td>-9.0</td>\n",
       "      <td>0</td>\n",
       "      <td>0</td>\n",
       "      <td>NaN</td>\n",
       "      <td>NaN</td>\n",
       "      <td>NaN</td>\n",
       "      <td>NaN</td>\n",
       "      <td>NaN</td>\n",
       "      <td>NaN</td>\n",
       "    </tr>\n",
       "    <tr>\n",
       "      <th>2</th>\n",
       "      <td>2015</td>\n",
       "      <td>1</td>\n",
       "      <td>1</td>\n",
       "      <td>4</td>\n",
       "      <td>US</td>\n",
       "      <td>840</td>\n",
       "      <td>N171US</td>\n",
       "      <td>SFO</td>\n",
       "      <td>CLT</td>\n",
       "      <td>20</td>\n",
       "      <td>...</td>\n",
       "      <td>811.0</td>\n",
       "      <td>5.0</td>\n",
       "      <td>0</td>\n",
       "      <td>0</td>\n",
       "      <td>NaN</td>\n",
       "      <td>NaN</td>\n",
       "      <td>NaN</td>\n",
       "      <td>NaN</td>\n",
       "      <td>NaN</td>\n",
       "      <td>NaN</td>\n",
       "    </tr>\n",
       "    <tr>\n",
       "      <th>3</th>\n",
       "      <td>2015</td>\n",
       "      <td>1</td>\n",
       "      <td>1</td>\n",
       "      <td>4</td>\n",
       "      <td>AA</td>\n",
       "      <td>258</td>\n",
       "      <td>N3HYAA</td>\n",
       "      <td>LAX</td>\n",
       "      <td>MIA</td>\n",
       "      <td>20</td>\n",
       "      <td>...</td>\n",
       "      <td>756.0</td>\n",
       "      <td>-9.0</td>\n",
       "      <td>0</td>\n",
       "      <td>0</td>\n",
       "      <td>NaN</td>\n",
       "      <td>NaN</td>\n",
       "      <td>NaN</td>\n",
       "      <td>NaN</td>\n",
       "      <td>NaN</td>\n",
       "      <td>NaN</td>\n",
       "    </tr>\n",
       "    <tr>\n",
       "      <th>4</th>\n",
       "      <td>2015</td>\n",
       "      <td>1</td>\n",
       "      <td>1</td>\n",
       "      <td>4</td>\n",
       "      <td>AS</td>\n",
       "      <td>135</td>\n",
       "      <td>N527AS</td>\n",
       "      <td>SEA</td>\n",
       "      <td>ANC</td>\n",
       "      <td>25</td>\n",
       "      <td>...</td>\n",
       "      <td>259.0</td>\n",
       "      <td>-21.0</td>\n",
       "      <td>0</td>\n",
       "      <td>0</td>\n",
       "      <td>NaN</td>\n",
       "      <td>NaN</td>\n",
       "      <td>NaN</td>\n",
       "      <td>NaN</td>\n",
       "      <td>NaN</td>\n",
       "      <td>NaN</td>\n",
       "    </tr>\n",
       "  </tbody>\n",
       "</table>\n",
       "<p>5 rows × 31 columns</p>\n",
       "</div>"
      ],
      "text/plain": [
       "   YEAR  MONTH  DAY  DAY_OF_WEEK AIRLINE  FLIGHT_NUMBER TAIL_NUMBER  \\\n",
       "0  2015      1    1            4      AS             98      N407AS   \n",
       "1  2015      1    1            4      AA           2336      N3KUAA   \n",
       "2  2015      1    1            4      US            840      N171US   \n",
       "3  2015      1    1            4      AA            258      N3HYAA   \n",
       "4  2015      1    1            4      AS            135      N527AS   \n",
       "\n",
       "  ORIGIN_AIRPORT DESTINATION_AIRPORT  SCHEDULED_DEPARTURE  ...  ARRIVAL_TIME  \\\n",
       "0            ANC                 SEA                    5  ...         408.0   \n",
       "1            LAX                 PBI                   10  ...         741.0   \n",
       "2            SFO                 CLT                   20  ...         811.0   \n",
       "3            LAX                 MIA                   20  ...         756.0   \n",
       "4            SEA                 ANC                   25  ...         259.0   \n",
       "\n",
       "   ARRIVAL_DELAY  DIVERTED  CANCELLED  CANCELLATION_REASON  AIR_SYSTEM_DELAY  \\\n",
       "0          -22.0         0          0                  NaN               NaN   \n",
       "1           -9.0         0          0                  NaN               NaN   \n",
       "2            5.0         0          0                  NaN               NaN   \n",
       "3           -9.0         0          0                  NaN               NaN   \n",
       "4          -21.0         0          0                  NaN               NaN   \n",
       "\n",
       "   SECURITY_DELAY  AIRLINE_DELAY  LATE_AIRCRAFT_DELAY  WEATHER_DELAY  \n",
       "0             NaN            NaN                  NaN            NaN  \n",
       "1             NaN            NaN                  NaN            NaN  \n",
       "2             NaN            NaN                  NaN            NaN  \n",
       "3             NaN            NaN                  NaN            NaN  \n",
       "4             NaN            NaN                  NaN            NaN  \n",
       "\n",
       "[5 rows x 31 columns]"
      ]
     },
     "execution_count": 75,
     "metadata": {},
     "output_type": "execute_result"
    }
   ],
   "source": [
    "dataset.head()"
   ]
  },
  {
   "cell_type": "code",
   "execution_count": 76,
   "metadata": {},
   "outputs": [
    {
     "data": {
      "text/html": [
       "<div>\n",
       "<style scoped>\n",
       "    .dataframe tbody tr th:only-of-type {\n",
       "        vertical-align: middle;\n",
       "    }\n",
       "\n",
       "    .dataframe tbody tr th {\n",
       "        vertical-align: top;\n",
       "    }\n",
       "\n",
       "    .dataframe thead th {\n",
       "        text-align: right;\n",
       "    }\n",
       "</style>\n",
       "<table border=\"1\" class=\"dataframe\">\n",
       "  <thead>\n",
       "    <tr style=\"text-align: right;\">\n",
       "      <th></th>\n",
       "      <th>YEAR</th>\n",
       "      <th>MONTH</th>\n",
       "      <th>DAY</th>\n",
       "      <th>DAY_OF_WEEK</th>\n",
       "      <th>AIRLINE</th>\n",
       "      <th>FLIGHT_NUMBER</th>\n",
       "      <th>TAIL_NUMBER</th>\n",
       "      <th>ORIGIN_AIRPORT</th>\n",
       "      <th>DESTINATION_AIRPORT</th>\n",
       "      <th>SCHEDULED_DEPARTURE</th>\n",
       "      <th>...</th>\n",
       "      <th>ARRIVAL_TIME</th>\n",
       "      <th>ARRIVAL_DELAY</th>\n",
       "      <th>DIVERTED</th>\n",
       "      <th>CANCELLED</th>\n",
       "      <th>CANCELLATION_REASON</th>\n",
       "      <th>AIR_SYSTEM_DELAY</th>\n",
       "      <th>SECURITY_DELAY</th>\n",
       "      <th>AIRLINE_DELAY</th>\n",
       "      <th>LATE_AIRCRAFT_DELAY</th>\n",
       "      <th>WEATHER_DELAY</th>\n",
       "    </tr>\n",
       "  </thead>\n",
       "  <tbody>\n",
       "    <tr>\n",
       "      <th>5819074</th>\n",
       "      <td>2015</td>\n",
       "      <td>12</td>\n",
       "      <td>31</td>\n",
       "      <td>4</td>\n",
       "      <td>B6</td>\n",
       "      <td>688</td>\n",
       "      <td>N657JB</td>\n",
       "      <td>LAX</td>\n",
       "      <td>BOS</td>\n",
       "      <td>2359</td>\n",
       "      <td>...</td>\n",
       "      <td>753.0</td>\n",
       "      <td>-26.0</td>\n",
       "      <td>0</td>\n",
       "      <td>0</td>\n",
       "      <td>NaN</td>\n",
       "      <td>NaN</td>\n",
       "      <td>NaN</td>\n",
       "      <td>NaN</td>\n",
       "      <td>NaN</td>\n",
       "      <td>NaN</td>\n",
       "    </tr>\n",
       "    <tr>\n",
       "      <th>5819075</th>\n",
       "      <td>2015</td>\n",
       "      <td>12</td>\n",
       "      <td>31</td>\n",
       "      <td>4</td>\n",
       "      <td>B6</td>\n",
       "      <td>745</td>\n",
       "      <td>N828JB</td>\n",
       "      <td>JFK</td>\n",
       "      <td>PSE</td>\n",
       "      <td>2359</td>\n",
       "      <td>...</td>\n",
       "      <td>430.0</td>\n",
       "      <td>-16.0</td>\n",
       "      <td>0</td>\n",
       "      <td>0</td>\n",
       "      <td>NaN</td>\n",
       "      <td>NaN</td>\n",
       "      <td>NaN</td>\n",
       "      <td>NaN</td>\n",
       "      <td>NaN</td>\n",
       "      <td>NaN</td>\n",
       "    </tr>\n",
       "    <tr>\n",
       "      <th>5819076</th>\n",
       "      <td>2015</td>\n",
       "      <td>12</td>\n",
       "      <td>31</td>\n",
       "      <td>4</td>\n",
       "      <td>B6</td>\n",
       "      <td>1503</td>\n",
       "      <td>N913JB</td>\n",
       "      <td>JFK</td>\n",
       "      <td>SJU</td>\n",
       "      <td>2359</td>\n",
       "      <td>...</td>\n",
       "      <td>432.0</td>\n",
       "      <td>-8.0</td>\n",
       "      <td>0</td>\n",
       "      <td>0</td>\n",
       "      <td>NaN</td>\n",
       "      <td>NaN</td>\n",
       "      <td>NaN</td>\n",
       "      <td>NaN</td>\n",
       "      <td>NaN</td>\n",
       "      <td>NaN</td>\n",
       "    </tr>\n",
       "    <tr>\n",
       "      <th>5819077</th>\n",
       "      <td>2015</td>\n",
       "      <td>12</td>\n",
       "      <td>31</td>\n",
       "      <td>4</td>\n",
       "      <td>B6</td>\n",
       "      <td>333</td>\n",
       "      <td>N527JB</td>\n",
       "      <td>MCO</td>\n",
       "      <td>SJU</td>\n",
       "      <td>2359</td>\n",
       "      <td>...</td>\n",
       "      <td>330.0</td>\n",
       "      <td>-10.0</td>\n",
       "      <td>0</td>\n",
       "      <td>0</td>\n",
       "      <td>NaN</td>\n",
       "      <td>NaN</td>\n",
       "      <td>NaN</td>\n",
       "      <td>NaN</td>\n",
       "      <td>NaN</td>\n",
       "      <td>NaN</td>\n",
       "    </tr>\n",
       "    <tr>\n",
       "      <th>5819078</th>\n",
       "      <td>2015</td>\n",
       "      <td>12</td>\n",
       "      <td>31</td>\n",
       "      <td>4</td>\n",
       "      <td>B6</td>\n",
       "      <td>839</td>\n",
       "      <td>N534JB</td>\n",
       "      <td>JFK</td>\n",
       "      <td>BQN</td>\n",
       "      <td>2359</td>\n",
       "      <td>...</td>\n",
       "      <td>442.0</td>\n",
       "      <td>2.0</td>\n",
       "      <td>0</td>\n",
       "      <td>0</td>\n",
       "      <td>NaN</td>\n",
       "      <td>NaN</td>\n",
       "      <td>NaN</td>\n",
       "      <td>NaN</td>\n",
       "      <td>NaN</td>\n",
       "      <td>NaN</td>\n",
       "    </tr>\n",
       "  </tbody>\n",
       "</table>\n",
       "<p>5 rows × 31 columns</p>\n",
       "</div>"
      ],
      "text/plain": [
       "         YEAR  MONTH  DAY  DAY_OF_WEEK AIRLINE  FLIGHT_NUMBER TAIL_NUMBER  \\\n",
       "5819074  2015     12   31            4      B6            688      N657JB   \n",
       "5819075  2015     12   31            4      B6            745      N828JB   \n",
       "5819076  2015     12   31            4      B6           1503      N913JB   \n",
       "5819077  2015     12   31            4      B6            333      N527JB   \n",
       "5819078  2015     12   31            4      B6            839      N534JB   \n",
       "\n",
       "        ORIGIN_AIRPORT DESTINATION_AIRPORT  SCHEDULED_DEPARTURE  ...  \\\n",
       "5819074            LAX                 BOS                 2359  ...   \n",
       "5819075            JFK                 PSE                 2359  ...   \n",
       "5819076            JFK                 SJU                 2359  ...   \n",
       "5819077            MCO                 SJU                 2359  ...   \n",
       "5819078            JFK                 BQN                 2359  ...   \n",
       "\n",
       "         ARRIVAL_TIME  ARRIVAL_DELAY  DIVERTED  CANCELLED  \\\n",
       "5819074         753.0          -26.0         0          0   \n",
       "5819075         430.0          -16.0         0          0   \n",
       "5819076         432.0           -8.0         0          0   \n",
       "5819077         330.0          -10.0         0          0   \n",
       "5819078         442.0            2.0         0          0   \n",
       "\n",
       "         CANCELLATION_REASON  AIR_SYSTEM_DELAY  SECURITY_DELAY  AIRLINE_DELAY  \\\n",
       "5819074                  NaN               NaN             NaN            NaN   \n",
       "5819075                  NaN               NaN             NaN            NaN   \n",
       "5819076                  NaN               NaN             NaN            NaN   \n",
       "5819077                  NaN               NaN             NaN            NaN   \n",
       "5819078                  NaN               NaN             NaN            NaN   \n",
       "\n",
       "         LATE_AIRCRAFT_DELAY  WEATHER_DELAY  \n",
       "5819074                  NaN            NaN  \n",
       "5819075                  NaN            NaN  \n",
       "5819076                  NaN            NaN  \n",
       "5819077                  NaN            NaN  \n",
       "5819078                  NaN            NaN  \n",
       "\n",
       "[5 rows x 31 columns]"
      ]
     },
     "execution_count": 76,
     "metadata": {},
     "output_type": "execute_result"
    }
   ],
   "source": [
    "dataset.tail()"
   ]
  },
  {
   "cell_type": "code",
   "execution_count": 77,
   "metadata": {},
   "outputs": [
    {
     "data": {
      "text/plain": [
       "(5819079, 31)"
      ]
     },
     "execution_count": 77,
     "metadata": {},
     "output_type": "execute_result"
    }
   ],
   "source": [
    "dataset.shape"
   ]
  },
  {
   "cell_type": "markdown",
   "metadata": {},
   "source": [
    "Entendendo os dados"
   ]
  },
  {
   "cell_type": "code",
   "execution_count": 78,
   "metadata": {},
   "outputs": [
    {
     "data": {
      "text/plain": [
       "YEAR                     int64\n",
       "MONTH                    int64\n",
       "DAY                      int64\n",
       "DAY_OF_WEEK              int64\n",
       "AIRLINE                 object\n",
       "FLIGHT_NUMBER            int64\n",
       "TAIL_NUMBER             object\n",
       "ORIGIN_AIRPORT          object\n",
       "DESTINATION_AIRPORT     object\n",
       "SCHEDULED_DEPARTURE      int64\n",
       "DEPARTURE_TIME         float64\n",
       "DEPARTURE_DELAY        float64\n",
       "TAXI_OUT               float64\n",
       "WHEELS_OFF             float64\n",
       "SCHEDULED_TIME         float64\n",
       "ELAPSED_TIME           float64\n",
       "AIR_TIME               float64\n",
       "DISTANCE                 int64\n",
       "WHEELS_ON              float64\n",
       "TAXI_IN                float64\n",
       "SCHEDULED_ARRIVAL        int64\n",
       "ARRIVAL_TIME           float64\n",
       "ARRIVAL_DELAY          float64\n",
       "DIVERTED                 int64\n",
       "CANCELLED                int64\n",
       "CANCELLATION_REASON     object\n",
       "AIR_SYSTEM_DELAY       float64\n",
       "SECURITY_DELAY         float64\n",
       "AIRLINE_DELAY          float64\n",
       "LATE_AIRCRAFT_DELAY    float64\n",
       "WEATHER_DELAY          float64\n",
       "dtype: object"
      ]
     },
     "execution_count": 78,
     "metadata": {},
     "output_type": "execute_result"
    }
   ],
   "source": [
    "dataset.dtypes"
   ]
  },
  {
   "cell_type": "code",
   "execution_count": 79,
   "metadata": {},
   "outputs": [
    {
     "data": {
      "text/plain": [
       "YEAR                         0\n",
       "MONTH                        0\n",
       "DAY                          0\n",
       "DAY_OF_WEEK                  0\n",
       "AIRLINE                      0\n",
       "FLIGHT_NUMBER                0\n",
       "TAIL_NUMBER              14721\n",
       "ORIGIN_AIRPORT               0\n",
       "DESTINATION_AIRPORT          0\n",
       "SCHEDULED_DEPARTURE          0\n",
       "DEPARTURE_TIME           86153\n",
       "DEPARTURE_DELAY          86153\n",
       "TAXI_OUT                 89047\n",
       "WHEELS_OFF               89047\n",
       "SCHEDULED_TIME               6\n",
       "ELAPSED_TIME            105071\n",
       "AIR_TIME                105071\n",
       "DISTANCE                     0\n",
       "WHEELS_ON                92513\n",
       "TAXI_IN                  92513\n",
       "SCHEDULED_ARRIVAL            0\n",
       "ARRIVAL_TIME             92513\n",
       "ARRIVAL_DELAY           105071\n",
       "DIVERTED                     0\n",
       "CANCELLED                    0\n",
       "CANCELLATION_REASON    5729195\n",
       "AIR_SYSTEM_DELAY       4755640\n",
       "SECURITY_DELAY         4755640\n",
       "AIRLINE_DELAY          4755640\n",
       "LATE_AIRCRAFT_DELAY    4755640\n",
       "WEATHER_DELAY          4755640\n",
       "dtype: int64"
      ]
     },
     "execution_count": 79,
     "metadata": {},
     "output_type": "execute_result"
    }
   ],
   "source": [
    "# Verificando a quantidade de nulos\n",
    "dataset.isnull().sum()"
   ]
  },
  {
   "cell_type": "code",
   "execution_count": 80,
   "metadata": {},
   "outputs": [
    {
     "data": {
      "text/html": [
       "<div>\n",
       "<style scoped>\n",
       "    .dataframe tbody tr th:only-of-type {\n",
       "        vertical-align: middle;\n",
       "    }\n",
       "\n",
       "    .dataframe tbody tr th {\n",
       "        vertical-align: top;\n",
       "    }\n",
       "\n",
       "    .dataframe thead th {\n",
       "        text-align: right;\n",
       "    }\n",
       "</style>\n",
       "<table border=\"1\" class=\"dataframe\">\n",
       "  <thead>\n",
       "    <tr style=\"text-align: right;\">\n",
       "      <th></th>\n",
       "      <th>0</th>\n",
       "    </tr>\n",
       "  </thead>\n",
       "  <tbody>\n",
       "    <tr>\n",
       "      <th>CANCELLATION_REASON</th>\n",
       "      <td>98.455357</td>\n",
       "    </tr>\n",
       "    <tr>\n",
       "      <th>WEATHER_DELAY</th>\n",
       "      <td>81.724960</td>\n",
       "    </tr>\n",
       "    <tr>\n",
       "      <th>LATE_AIRCRAFT_DELAY</th>\n",
       "      <td>81.724960</td>\n",
       "    </tr>\n",
       "    <tr>\n",
       "      <th>AIRLINE_DELAY</th>\n",
       "      <td>81.724960</td>\n",
       "    </tr>\n",
       "    <tr>\n",
       "      <th>SECURITY_DELAY</th>\n",
       "      <td>81.724960</td>\n",
       "    </tr>\n",
       "    <tr>\n",
       "      <th>AIR_SYSTEM_DELAY</th>\n",
       "      <td>81.724960</td>\n",
       "    </tr>\n",
       "    <tr>\n",
       "      <th>AIR_TIME</th>\n",
       "      <td>1.805629</td>\n",
       "    </tr>\n",
       "    <tr>\n",
       "      <th>ARRIVAL_DELAY</th>\n",
       "      <td>1.805629</td>\n",
       "    </tr>\n",
       "    <tr>\n",
       "      <th>ELAPSED_TIME</th>\n",
       "      <td>1.805629</td>\n",
       "    </tr>\n",
       "    <tr>\n",
       "      <th>WHEELS_ON</th>\n",
       "      <td>1.589822</td>\n",
       "    </tr>\n",
       "    <tr>\n",
       "      <th>TAXI_IN</th>\n",
       "      <td>1.589822</td>\n",
       "    </tr>\n",
       "    <tr>\n",
       "      <th>ARRIVAL_TIME</th>\n",
       "      <td>1.589822</td>\n",
       "    </tr>\n",
       "    <tr>\n",
       "      <th>TAXI_OUT</th>\n",
       "      <td>1.530259</td>\n",
       "    </tr>\n",
       "    <tr>\n",
       "      <th>WHEELS_OFF</th>\n",
       "      <td>1.530259</td>\n",
       "    </tr>\n",
       "    <tr>\n",
       "      <th>DEPARTURE_DELAY</th>\n",
       "      <td>1.480526</td>\n",
       "    </tr>\n",
       "    <tr>\n",
       "      <th>DEPARTURE_TIME</th>\n",
       "      <td>1.480526</td>\n",
       "    </tr>\n",
       "    <tr>\n",
       "      <th>TAIL_NUMBER</th>\n",
       "      <td>0.252978</td>\n",
       "    </tr>\n",
       "    <tr>\n",
       "      <th>SCHEDULED_TIME</th>\n",
       "      <td>0.000103</td>\n",
       "    </tr>\n",
       "    <tr>\n",
       "      <th>SCHEDULED_DEPARTURE</th>\n",
       "      <td>0.000000</td>\n",
       "    </tr>\n",
       "    <tr>\n",
       "      <th>CANCELLED</th>\n",
       "      <td>0.000000</td>\n",
       "    </tr>\n",
       "    <tr>\n",
       "      <th>DAY</th>\n",
       "      <td>0.000000</td>\n",
       "    </tr>\n",
       "    <tr>\n",
       "      <th>DAY_OF_WEEK</th>\n",
       "      <td>0.000000</td>\n",
       "    </tr>\n",
       "    <tr>\n",
       "      <th>AIRLINE</th>\n",
       "      <td>0.000000</td>\n",
       "    </tr>\n",
       "    <tr>\n",
       "      <th>FLIGHT_NUMBER</th>\n",
       "      <td>0.000000</td>\n",
       "    </tr>\n",
       "    <tr>\n",
       "      <th>SCHEDULED_ARRIVAL</th>\n",
       "      <td>0.000000</td>\n",
       "    </tr>\n",
       "    <tr>\n",
       "      <th>DIVERTED</th>\n",
       "      <td>0.000000</td>\n",
       "    </tr>\n",
       "    <tr>\n",
       "      <th>ORIGIN_AIRPORT</th>\n",
       "      <td>0.000000</td>\n",
       "    </tr>\n",
       "    <tr>\n",
       "      <th>DISTANCE</th>\n",
       "      <td>0.000000</td>\n",
       "    </tr>\n",
       "    <tr>\n",
       "      <th>DESTINATION_AIRPORT</th>\n",
       "      <td>0.000000</td>\n",
       "    </tr>\n",
       "    <tr>\n",
       "      <th>MONTH</th>\n",
       "      <td>0.000000</td>\n",
       "    </tr>\n",
       "    <tr>\n",
       "      <th>YEAR</th>\n",
       "      <td>0.000000</td>\n",
       "    </tr>\n",
       "  </tbody>\n",
       "</table>\n",
       "</div>"
      ],
      "text/plain": [
       "                             0\n",
       "CANCELLATION_REASON  98.455357\n",
       "WEATHER_DELAY        81.724960\n",
       "LATE_AIRCRAFT_DELAY  81.724960\n",
       "AIRLINE_DELAY        81.724960\n",
       "SECURITY_DELAY       81.724960\n",
       "AIR_SYSTEM_DELAY     81.724960\n",
       "AIR_TIME              1.805629\n",
       "ARRIVAL_DELAY         1.805629\n",
       "ELAPSED_TIME          1.805629\n",
       "WHEELS_ON             1.589822\n",
       "TAXI_IN               1.589822\n",
       "ARRIVAL_TIME          1.589822\n",
       "TAXI_OUT              1.530259\n",
       "WHEELS_OFF            1.530259\n",
       "DEPARTURE_DELAY       1.480526\n",
       "DEPARTURE_TIME        1.480526\n",
       "TAIL_NUMBER           0.252978\n",
       "SCHEDULED_TIME        0.000103\n",
       "SCHEDULED_DEPARTURE   0.000000\n",
       "CANCELLED             0.000000\n",
       "DAY                   0.000000\n",
       "DAY_OF_WEEK           0.000000\n",
       "AIRLINE               0.000000\n",
       "FLIGHT_NUMBER         0.000000\n",
       "SCHEDULED_ARRIVAL     0.000000\n",
       "DIVERTED              0.000000\n",
       "ORIGIN_AIRPORT        0.000000\n",
       "DISTANCE              0.000000\n",
       "DESTINATION_AIRPORT   0.000000\n",
       "MONTH                 0.000000\n",
       "YEAR                  0.000000"
      ]
     },
     "execution_count": 80,
     "metadata": {},
     "output_type": "execute_result"
    }
   ],
   "source": [
    "# Verificando a porcentagem de nulos\n",
    "(pd.DataFrame(dataset.isnull().sum(axis=0)).sort_values(by=0, ascending=False)/dataset.shape[0])*100"
   ]
  },
  {
   "cell_type": "code",
   "execution_count": 81,
   "metadata": {},
   "outputs": [
    {
     "data": {
      "text/html": [
       "<div>\n",
       "<style scoped>\n",
       "    .dataframe tbody tr th:only-of-type {\n",
       "        vertical-align: middle;\n",
       "    }\n",
       "\n",
       "    .dataframe tbody tr th {\n",
       "        vertical-align: top;\n",
       "    }\n",
       "\n",
       "    .dataframe thead th {\n",
       "        text-align: right;\n",
       "    }\n",
       "</style>\n",
       "<table border=\"1\" class=\"dataframe\">\n",
       "  <thead>\n",
       "    <tr style=\"text-align: right;\">\n",
       "      <th></th>\n",
       "      <th>YEAR</th>\n",
       "      <th>MONTH</th>\n",
       "      <th>DAY</th>\n",
       "      <th>DAY_OF_WEEK</th>\n",
       "      <th>FLIGHT_NUMBER</th>\n",
       "      <th>SCHEDULED_DEPARTURE</th>\n",
       "      <th>DEPARTURE_TIME</th>\n",
       "      <th>DEPARTURE_DELAY</th>\n",
       "      <th>TAXI_OUT</th>\n",
       "      <th>WHEELS_OFF</th>\n",
       "      <th>...</th>\n",
       "      <th>SCHEDULED_ARRIVAL</th>\n",
       "      <th>ARRIVAL_TIME</th>\n",
       "      <th>ARRIVAL_DELAY</th>\n",
       "      <th>DIVERTED</th>\n",
       "      <th>CANCELLED</th>\n",
       "      <th>AIR_SYSTEM_DELAY</th>\n",
       "      <th>SECURITY_DELAY</th>\n",
       "      <th>AIRLINE_DELAY</th>\n",
       "      <th>LATE_AIRCRAFT_DELAY</th>\n",
       "      <th>WEATHER_DELAY</th>\n",
       "    </tr>\n",
       "  </thead>\n",
       "  <tbody>\n",
       "    <tr>\n",
       "      <th>count</th>\n",
       "      <td>5819079.0</td>\n",
       "      <td>5.819079e+06</td>\n",
       "      <td>5.819079e+06</td>\n",
       "      <td>5.819079e+06</td>\n",
       "      <td>5.819079e+06</td>\n",
       "      <td>5.819079e+06</td>\n",
       "      <td>5.732926e+06</td>\n",
       "      <td>5.732926e+06</td>\n",
       "      <td>5.730032e+06</td>\n",
       "      <td>5.730032e+06</td>\n",
       "      <td>...</td>\n",
       "      <td>5.819079e+06</td>\n",
       "      <td>5.726566e+06</td>\n",
       "      <td>5.714008e+06</td>\n",
       "      <td>5.819079e+06</td>\n",
       "      <td>5.819079e+06</td>\n",
       "      <td>1.063439e+06</td>\n",
       "      <td>1.063439e+06</td>\n",
       "      <td>1.063439e+06</td>\n",
       "      <td>1.063439e+06</td>\n",
       "      <td>1.063439e+06</td>\n",
       "    </tr>\n",
       "    <tr>\n",
       "      <th>mean</th>\n",
       "      <td>2015.0</td>\n",
       "      <td>6.524085e+00</td>\n",
       "      <td>1.570459e+01</td>\n",
       "      <td>3.926941e+00</td>\n",
       "      <td>2.173093e+03</td>\n",
       "      <td>1.329602e+03</td>\n",
       "      <td>1.335204e+03</td>\n",
       "      <td>9.370158e+00</td>\n",
       "      <td>1.607166e+01</td>\n",
       "      <td>1.357171e+03</td>\n",
       "      <td>...</td>\n",
       "      <td>1.493808e+03</td>\n",
       "      <td>1.476491e+03</td>\n",
       "      <td>4.407057e+00</td>\n",
       "      <td>2.609863e-03</td>\n",
       "      <td>1.544643e-02</td>\n",
       "      <td>1.348057e+01</td>\n",
       "      <td>7.615387e-02</td>\n",
       "      <td>1.896955e+01</td>\n",
       "      <td>2.347284e+01</td>\n",
       "      <td>2.915290e+00</td>\n",
       "    </tr>\n",
       "    <tr>\n",
       "      <th>std</th>\n",
       "      <td>0.0</td>\n",
       "      <td>3.405137e+00</td>\n",
       "      <td>8.783425e+00</td>\n",
       "      <td>1.988845e+00</td>\n",
       "      <td>1.757064e+03</td>\n",
       "      <td>4.837518e+02</td>\n",
       "      <td>4.964233e+02</td>\n",
       "      <td>3.708094e+01</td>\n",
       "      <td>8.895574e+00</td>\n",
       "      <td>4.980094e+02</td>\n",
       "      <td>...</td>\n",
       "      <td>5.071647e+02</td>\n",
       "      <td>5.263197e+02</td>\n",
       "      <td>3.927130e+01</td>\n",
       "      <td>5.102012e-02</td>\n",
       "      <td>1.233201e-01</td>\n",
       "      <td>2.800368e+01</td>\n",
       "      <td>2.143460e+00</td>\n",
       "      <td>4.816164e+01</td>\n",
       "      <td>4.319702e+01</td>\n",
       "      <td>2.043334e+01</td>\n",
       "    </tr>\n",
       "    <tr>\n",
       "      <th>min</th>\n",
       "      <td>2015.0</td>\n",
       "      <td>1.000000e+00</td>\n",
       "      <td>1.000000e+00</td>\n",
       "      <td>1.000000e+00</td>\n",
       "      <td>1.000000e+00</td>\n",
       "      <td>1.000000e+00</td>\n",
       "      <td>1.000000e+00</td>\n",
       "      <td>-8.200000e+01</td>\n",
       "      <td>1.000000e+00</td>\n",
       "      <td>1.000000e+00</td>\n",
       "      <td>...</td>\n",
       "      <td>1.000000e+00</td>\n",
       "      <td>1.000000e+00</td>\n",
       "      <td>-8.700000e+01</td>\n",
       "      <td>0.000000e+00</td>\n",
       "      <td>0.000000e+00</td>\n",
       "      <td>0.000000e+00</td>\n",
       "      <td>0.000000e+00</td>\n",
       "      <td>0.000000e+00</td>\n",
       "      <td>0.000000e+00</td>\n",
       "      <td>0.000000e+00</td>\n",
       "    </tr>\n",
       "    <tr>\n",
       "      <th>25%</th>\n",
       "      <td>2015.0</td>\n",
       "      <td>4.000000e+00</td>\n",
       "      <td>8.000000e+00</td>\n",
       "      <td>2.000000e+00</td>\n",
       "      <td>7.300000e+02</td>\n",
       "      <td>9.170000e+02</td>\n",
       "      <td>9.210000e+02</td>\n",
       "      <td>-5.000000e+00</td>\n",
       "      <td>1.100000e+01</td>\n",
       "      <td>9.350000e+02</td>\n",
       "      <td>...</td>\n",
       "      <td>1.110000e+03</td>\n",
       "      <td>1.059000e+03</td>\n",
       "      <td>-1.300000e+01</td>\n",
       "      <td>0.000000e+00</td>\n",
       "      <td>0.000000e+00</td>\n",
       "      <td>0.000000e+00</td>\n",
       "      <td>0.000000e+00</td>\n",
       "      <td>0.000000e+00</td>\n",
       "      <td>0.000000e+00</td>\n",
       "      <td>0.000000e+00</td>\n",
       "    </tr>\n",
       "    <tr>\n",
       "      <th>50%</th>\n",
       "      <td>2015.0</td>\n",
       "      <td>7.000000e+00</td>\n",
       "      <td>1.600000e+01</td>\n",
       "      <td>4.000000e+00</td>\n",
       "      <td>1.690000e+03</td>\n",
       "      <td>1.325000e+03</td>\n",
       "      <td>1.330000e+03</td>\n",
       "      <td>-2.000000e+00</td>\n",
       "      <td>1.400000e+01</td>\n",
       "      <td>1.343000e+03</td>\n",
       "      <td>...</td>\n",
       "      <td>1.520000e+03</td>\n",
       "      <td>1.512000e+03</td>\n",
       "      <td>-5.000000e+00</td>\n",
       "      <td>0.000000e+00</td>\n",
       "      <td>0.000000e+00</td>\n",
       "      <td>2.000000e+00</td>\n",
       "      <td>0.000000e+00</td>\n",
       "      <td>2.000000e+00</td>\n",
       "      <td>3.000000e+00</td>\n",
       "      <td>0.000000e+00</td>\n",
       "    </tr>\n",
       "    <tr>\n",
       "      <th>75%</th>\n",
       "      <td>2015.0</td>\n",
       "      <td>9.000000e+00</td>\n",
       "      <td>2.300000e+01</td>\n",
       "      <td>6.000000e+00</td>\n",
       "      <td>3.230000e+03</td>\n",
       "      <td>1.730000e+03</td>\n",
       "      <td>1.740000e+03</td>\n",
       "      <td>7.000000e+00</td>\n",
       "      <td>1.900000e+01</td>\n",
       "      <td>1.754000e+03</td>\n",
       "      <td>...</td>\n",
       "      <td>1.918000e+03</td>\n",
       "      <td>1.917000e+03</td>\n",
       "      <td>8.000000e+00</td>\n",
       "      <td>0.000000e+00</td>\n",
       "      <td>0.000000e+00</td>\n",
       "      <td>1.800000e+01</td>\n",
       "      <td>0.000000e+00</td>\n",
       "      <td>1.900000e+01</td>\n",
       "      <td>2.900000e+01</td>\n",
       "      <td>0.000000e+00</td>\n",
       "    </tr>\n",
       "    <tr>\n",
       "      <th>90%</th>\n",
       "      <td>2015.0</td>\n",
       "      <td>1.100000e+01</td>\n",
       "      <td>2.800000e+01</td>\n",
       "      <td>7.000000e+00</td>\n",
       "      <td>4.992000e+03</td>\n",
       "      <td>2.002000e+03</td>\n",
       "      <td>2.015000e+03</td>\n",
       "      <td>3.500000e+01</td>\n",
       "      <td>2.500000e+01</td>\n",
       "      <td>2.030000e+03</td>\n",
       "      <td>...</td>\n",
       "      <td>2.147000e+03</td>\n",
       "      <td>2.148000e+03</td>\n",
       "      <td>3.400000e+01</td>\n",
       "      <td>0.000000e+00</td>\n",
       "      <td>0.000000e+00</td>\n",
       "      <td>3.500000e+01</td>\n",
       "      <td>0.000000e+00</td>\n",
       "      <td>5.000000e+01</td>\n",
       "      <td>7.000000e+01</td>\n",
       "      <td>0.000000e+00</td>\n",
       "    </tr>\n",
       "    <tr>\n",
       "      <th>max</th>\n",
       "      <td>2015.0</td>\n",
       "      <td>1.200000e+01</td>\n",
       "      <td>3.100000e+01</td>\n",
       "      <td>7.000000e+00</td>\n",
       "      <td>9.855000e+03</td>\n",
       "      <td>2.359000e+03</td>\n",
       "      <td>2.400000e+03</td>\n",
       "      <td>1.988000e+03</td>\n",
       "      <td>2.250000e+02</td>\n",
       "      <td>2.400000e+03</td>\n",
       "      <td>...</td>\n",
       "      <td>2.400000e+03</td>\n",
       "      <td>2.400000e+03</td>\n",
       "      <td>1.971000e+03</td>\n",
       "      <td>1.000000e+00</td>\n",
       "      <td>1.000000e+00</td>\n",
       "      <td>1.134000e+03</td>\n",
       "      <td>5.730000e+02</td>\n",
       "      <td>1.971000e+03</td>\n",
       "      <td>1.331000e+03</td>\n",
       "      <td>1.211000e+03</td>\n",
       "    </tr>\n",
       "  </tbody>\n",
       "</table>\n",
       "<p>9 rows × 26 columns</p>\n",
       "</div>"
      ],
      "text/plain": [
       "            YEAR         MONTH           DAY   DAY_OF_WEEK  FLIGHT_NUMBER  \\\n",
       "count  5819079.0  5.819079e+06  5.819079e+06  5.819079e+06   5.819079e+06   \n",
       "mean      2015.0  6.524085e+00  1.570459e+01  3.926941e+00   2.173093e+03   \n",
       "std          0.0  3.405137e+00  8.783425e+00  1.988845e+00   1.757064e+03   \n",
       "min       2015.0  1.000000e+00  1.000000e+00  1.000000e+00   1.000000e+00   \n",
       "25%       2015.0  4.000000e+00  8.000000e+00  2.000000e+00   7.300000e+02   \n",
       "50%       2015.0  7.000000e+00  1.600000e+01  4.000000e+00   1.690000e+03   \n",
       "75%       2015.0  9.000000e+00  2.300000e+01  6.000000e+00   3.230000e+03   \n",
       "90%       2015.0  1.100000e+01  2.800000e+01  7.000000e+00   4.992000e+03   \n",
       "max       2015.0  1.200000e+01  3.100000e+01  7.000000e+00   9.855000e+03   \n",
       "\n",
       "       SCHEDULED_DEPARTURE  DEPARTURE_TIME  DEPARTURE_DELAY      TAXI_OUT  \\\n",
       "count         5.819079e+06    5.732926e+06     5.732926e+06  5.730032e+06   \n",
       "mean          1.329602e+03    1.335204e+03     9.370158e+00  1.607166e+01   \n",
       "std           4.837518e+02    4.964233e+02     3.708094e+01  8.895574e+00   \n",
       "min           1.000000e+00    1.000000e+00    -8.200000e+01  1.000000e+00   \n",
       "25%           9.170000e+02    9.210000e+02    -5.000000e+00  1.100000e+01   \n",
       "50%           1.325000e+03    1.330000e+03    -2.000000e+00  1.400000e+01   \n",
       "75%           1.730000e+03    1.740000e+03     7.000000e+00  1.900000e+01   \n",
       "90%           2.002000e+03    2.015000e+03     3.500000e+01  2.500000e+01   \n",
       "max           2.359000e+03    2.400000e+03     1.988000e+03  2.250000e+02   \n",
       "\n",
       "         WHEELS_OFF  ...  SCHEDULED_ARRIVAL  ARRIVAL_TIME  ARRIVAL_DELAY  \\\n",
       "count  5.730032e+06  ...       5.819079e+06  5.726566e+06   5.714008e+06   \n",
       "mean   1.357171e+03  ...       1.493808e+03  1.476491e+03   4.407057e+00   \n",
       "std    4.980094e+02  ...       5.071647e+02  5.263197e+02   3.927130e+01   \n",
       "min    1.000000e+00  ...       1.000000e+00  1.000000e+00  -8.700000e+01   \n",
       "25%    9.350000e+02  ...       1.110000e+03  1.059000e+03  -1.300000e+01   \n",
       "50%    1.343000e+03  ...       1.520000e+03  1.512000e+03  -5.000000e+00   \n",
       "75%    1.754000e+03  ...       1.918000e+03  1.917000e+03   8.000000e+00   \n",
       "90%    2.030000e+03  ...       2.147000e+03  2.148000e+03   3.400000e+01   \n",
       "max    2.400000e+03  ...       2.400000e+03  2.400000e+03   1.971000e+03   \n",
       "\n",
       "           DIVERTED     CANCELLED  AIR_SYSTEM_DELAY  SECURITY_DELAY  \\\n",
       "count  5.819079e+06  5.819079e+06      1.063439e+06    1.063439e+06   \n",
       "mean   2.609863e-03  1.544643e-02      1.348057e+01    7.615387e-02   \n",
       "std    5.102012e-02  1.233201e-01      2.800368e+01    2.143460e+00   \n",
       "min    0.000000e+00  0.000000e+00      0.000000e+00    0.000000e+00   \n",
       "25%    0.000000e+00  0.000000e+00      0.000000e+00    0.000000e+00   \n",
       "50%    0.000000e+00  0.000000e+00      2.000000e+00    0.000000e+00   \n",
       "75%    0.000000e+00  0.000000e+00      1.800000e+01    0.000000e+00   \n",
       "90%    0.000000e+00  0.000000e+00      3.500000e+01    0.000000e+00   \n",
       "max    1.000000e+00  1.000000e+00      1.134000e+03    5.730000e+02   \n",
       "\n",
       "       AIRLINE_DELAY  LATE_AIRCRAFT_DELAY  WEATHER_DELAY  \n",
       "count   1.063439e+06         1.063439e+06   1.063439e+06  \n",
       "mean    1.896955e+01         2.347284e+01   2.915290e+00  \n",
       "std     4.816164e+01         4.319702e+01   2.043334e+01  \n",
       "min     0.000000e+00         0.000000e+00   0.000000e+00  \n",
       "25%     0.000000e+00         0.000000e+00   0.000000e+00  \n",
       "50%     2.000000e+00         3.000000e+00   0.000000e+00  \n",
       "75%     1.900000e+01         2.900000e+01   0.000000e+00  \n",
       "90%     5.000000e+01         7.000000e+01   0.000000e+00  \n",
       "max     1.971000e+03         1.331000e+03   1.211000e+03  \n",
       "\n",
       "[9 rows x 26 columns]"
      ]
     },
     "execution_count": 81,
     "metadata": {},
     "output_type": "execute_result"
    }
   ],
   "source": [
    "# Descrição dos percentis\n",
    "dataset.describe(percentiles=[.25, .5, .75, .9])"
   ]
  },
  {
   "cell_type": "markdown",
   "metadata": {},
   "source": [
    "#### Análise da coluna 'CANCELLATION_REASON' que apresenta 98% dos dados nulos: \n",
    "<p>Reason for Cancellation of flight: A - Airline/Carrier; B - Weather; C - National Air System; D - Security\n",
    "<p>Dos que responderam o primeiro motivo para o cancelamento foi o tempo/clima, seguido pela companhia aérea, sistema nacional de voos e por último,segurança."
   ]
  },
  {
   "cell_type": "code",
   "execution_count": 82,
   "metadata": {},
   "outputs": [
    {
     "data": {
      "text/plain": [
       "NaN    5729195\n",
       "B        48851\n",
       "A        25262\n",
       "C        15749\n",
       "D           22\n",
       "Name: CANCELLATION_REASON, dtype: int64"
      ]
     },
     "execution_count": 82,
     "metadata": {},
     "output_type": "execute_result"
    }
   ],
   "source": [
    "dataset['CANCELLATION_REASON'].value_counts(dropna=False)"
   ]
  },
  {
   "cell_type": "markdown",
   "metadata": {},
   "source": []
  },
  {
   "cell_type": "code",
   "execution_count": 83,
   "metadata": {},
   "outputs": [
    {
     "data": {
      "text/plain": [
       "count    1.063439e+06\n",
       "mean     2.915290e+00\n",
       "std      2.043334e+01\n",
       "min      0.000000e+00\n",
       "25%      0.000000e+00\n",
       "50%      0.000000e+00\n",
       "75%      0.000000e+00\n",
       "max      1.211000e+03\n",
       "Name: WEATHER_DELAY, dtype: float64"
      ]
     },
     "execution_count": 83,
     "metadata": {},
     "output_type": "execute_result"
    }
   ],
   "source": [
    "dataset['WEATHER_DELAY'].dropna().describe()"
   ]
  },
  {
   "cell_type": "code",
   "execution_count": 84,
   "metadata": {},
   "outputs": [
    {
     "data": {
      "text/plain": [
       "count    1.063439e+06\n",
       "mean     2.347284e+01\n",
       "std      4.319702e+01\n",
       "min      0.000000e+00\n",
       "25%      0.000000e+00\n",
       "50%      3.000000e+00\n",
       "75%      2.900000e+01\n",
       "max      1.331000e+03\n",
       "Name: LATE_AIRCRAFT_DELAY, dtype: float64"
      ]
     },
     "execution_count": 84,
     "metadata": {},
     "output_type": "execute_result"
    }
   ],
   "source": [
    "dataset['LATE_AIRCRAFT_DELAY'].dropna().describe()"
   ]
  },
  {
   "cell_type": "code",
   "execution_count": 85,
   "metadata": {},
   "outputs": [
    {
     "data": {
      "text/plain": [
       "count    1.063439e+06\n",
       "mean     1.896955e+01\n",
       "std      4.816164e+01\n",
       "min      0.000000e+00\n",
       "25%      0.000000e+00\n",
       "50%      2.000000e+00\n",
       "75%      1.900000e+01\n",
       "max      1.971000e+03\n",
       "Name: AIRLINE_DELAY, dtype: float64"
      ]
     },
     "execution_count": 85,
     "metadata": {},
     "output_type": "execute_result"
    }
   ],
   "source": [
    "dataset['AIRLINE_DELAY'].dropna().describe()"
   ]
  },
  {
   "cell_type": "code",
   "execution_count": 86,
   "metadata": {},
   "outputs": [
    {
     "data": {
      "text/plain": [
       "count    1.063439e+06\n",
       "mean     7.615387e-02\n",
       "std      2.143460e+00\n",
       "min      0.000000e+00\n",
       "25%      0.000000e+00\n",
       "50%      0.000000e+00\n",
       "75%      0.000000e+00\n",
       "max      5.730000e+02\n",
       "Name: SECURITY_DELAY, dtype: float64"
      ]
     },
     "execution_count": 86,
     "metadata": {},
     "output_type": "execute_result"
    }
   ],
   "source": [
    "dataset['SECURITY_DELAY'].dropna().describe()\n"
   ]
  },
  {
   "cell_type": "code",
   "execution_count": 87,
   "metadata": {},
   "outputs": [
    {
     "data": {
      "text/plain": [
       "count    1.063439e+06\n",
       "mean     1.348057e+01\n",
       "std      2.800368e+01\n",
       "min      0.000000e+00\n",
       "25%      0.000000e+00\n",
       "50%      2.000000e+00\n",
       "75%      1.800000e+01\n",
       "max      1.134000e+03\n",
       "Name: AIR_SYSTEM_DELAY, dtype: float64"
      ]
     },
     "execution_count": 87,
     "metadata": {},
     "output_type": "execute_result"
    }
   ],
   "source": [
    "dataset['AIR_SYSTEM_DELAY'].dropna().describe()"
   ]
  },
  {
   "cell_type": "markdown",
   "metadata": {},
   "source": [
    "Criando uma nova base de dados para fazer tratamentos"
   ]
  },
  {
   "cell_type": "code",
   "execution_count": 88,
   "metadata": {},
   "outputs": [],
   "source": [
    "datasetSNulo = dataset "
   ]
  },
  {
   "cell_type": "markdown",
   "metadata": {},
   "source": [
    "Primeiro tratamento a ser feito foi na coluna \"CANCELLATION_REASON\", onde a quantidade de nulos passava de 98%. Foi escolhido dropar a coluna visto quea quantidade de nulos é muito elevada."
   ]
  },
  {
   "cell_type": "code",
   "execution_count": 89,
   "metadata": {},
   "outputs": [],
   "source": [
    "datasetSNulo = datasetSNulo.drop(['CANCELLATION_REASON'],axis=1)"
   ]
  },
  {
   "cell_type": "markdown",
   "metadata": {},
   "source": [
    "O proximo tratamento foi das colunas \"LATE_AIRCRAFT_DELAY\",\"AIRLINE_DELAY\",\"SECURITY_DELAY\" e \"AIR_SYSTEM_DELAY\". O critério adotado foi a remoção das colunas também, visto que a porcentagem de nulos ultrapassam os 81% em todas elas.  "
   ]
  },
  {
   "cell_type": "code",
   "execution_count": 90,
   "metadata": {},
   "outputs": [],
   "source": [
    "datasetSNulo = datasetSNulo.drop(['LATE_AIRCRAFT_DELAY','AIRLINE_DELAY','SECURITY_DELAY','AIR_SYSTEM_DELAY'],axis=1)\n"
   ]
  },
  {
   "cell_type": "code",
   "execution_count": 91,
   "metadata": {},
   "outputs": [
    {
     "data": {
      "text/html": [
       "<div>\n",
       "<style scoped>\n",
       "    .dataframe tbody tr th:only-of-type {\n",
       "        vertical-align: middle;\n",
       "    }\n",
       "\n",
       "    .dataframe tbody tr th {\n",
       "        vertical-align: top;\n",
       "    }\n",
       "\n",
       "    .dataframe thead th {\n",
       "        text-align: right;\n",
       "    }\n",
       "</style>\n",
       "<table border=\"1\" class=\"dataframe\">\n",
       "  <thead>\n",
       "    <tr style=\"text-align: right;\">\n",
       "      <th></th>\n",
       "      <th>YEAR</th>\n",
       "      <th>MONTH</th>\n",
       "      <th>DAY</th>\n",
       "      <th>DAY_OF_WEEK</th>\n",
       "      <th>AIRLINE</th>\n",
       "      <th>FLIGHT_NUMBER</th>\n",
       "      <th>TAIL_NUMBER</th>\n",
       "      <th>ORIGIN_AIRPORT</th>\n",
       "      <th>DESTINATION_AIRPORT</th>\n",
       "      <th>SCHEDULED_DEPARTURE</th>\n",
       "      <th>...</th>\n",
       "      <th>AIR_TIME</th>\n",
       "      <th>DISTANCE</th>\n",
       "      <th>WHEELS_ON</th>\n",
       "      <th>TAXI_IN</th>\n",
       "      <th>SCHEDULED_ARRIVAL</th>\n",
       "      <th>ARRIVAL_TIME</th>\n",
       "      <th>ARRIVAL_DELAY</th>\n",
       "      <th>DIVERTED</th>\n",
       "      <th>CANCELLED</th>\n",
       "      <th>WEATHER_DELAY</th>\n",
       "    </tr>\n",
       "  </thead>\n",
       "  <tbody>\n",
       "    <tr>\n",
       "      <th>0</th>\n",
       "      <td>2015</td>\n",
       "      <td>1</td>\n",
       "      <td>1</td>\n",
       "      <td>4</td>\n",
       "      <td>AS</td>\n",
       "      <td>98</td>\n",
       "      <td>N407AS</td>\n",
       "      <td>ANC</td>\n",
       "      <td>SEA</td>\n",
       "      <td>5</td>\n",
       "      <td>...</td>\n",
       "      <td>169.0</td>\n",
       "      <td>1448</td>\n",
       "      <td>404.0</td>\n",
       "      <td>4.0</td>\n",
       "      <td>430</td>\n",
       "      <td>408.0</td>\n",
       "      <td>-22.0</td>\n",
       "      <td>0</td>\n",
       "      <td>0</td>\n",
       "      <td>NaN</td>\n",
       "    </tr>\n",
       "    <tr>\n",
       "      <th>1</th>\n",
       "      <td>2015</td>\n",
       "      <td>1</td>\n",
       "      <td>1</td>\n",
       "      <td>4</td>\n",
       "      <td>AA</td>\n",
       "      <td>2336</td>\n",
       "      <td>N3KUAA</td>\n",
       "      <td>LAX</td>\n",
       "      <td>PBI</td>\n",
       "      <td>10</td>\n",
       "      <td>...</td>\n",
       "      <td>263.0</td>\n",
       "      <td>2330</td>\n",
       "      <td>737.0</td>\n",
       "      <td>4.0</td>\n",
       "      <td>750</td>\n",
       "      <td>741.0</td>\n",
       "      <td>-9.0</td>\n",
       "      <td>0</td>\n",
       "      <td>0</td>\n",
       "      <td>NaN</td>\n",
       "    </tr>\n",
       "    <tr>\n",
       "      <th>2</th>\n",
       "      <td>2015</td>\n",
       "      <td>1</td>\n",
       "      <td>1</td>\n",
       "      <td>4</td>\n",
       "      <td>US</td>\n",
       "      <td>840</td>\n",
       "      <td>N171US</td>\n",
       "      <td>SFO</td>\n",
       "      <td>CLT</td>\n",
       "      <td>20</td>\n",
       "      <td>...</td>\n",
       "      <td>266.0</td>\n",
       "      <td>2296</td>\n",
       "      <td>800.0</td>\n",
       "      <td>11.0</td>\n",
       "      <td>806</td>\n",
       "      <td>811.0</td>\n",
       "      <td>5.0</td>\n",
       "      <td>0</td>\n",
       "      <td>0</td>\n",
       "      <td>NaN</td>\n",
       "    </tr>\n",
       "    <tr>\n",
       "      <th>3</th>\n",
       "      <td>2015</td>\n",
       "      <td>1</td>\n",
       "      <td>1</td>\n",
       "      <td>4</td>\n",
       "      <td>AA</td>\n",
       "      <td>258</td>\n",
       "      <td>N3HYAA</td>\n",
       "      <td>LAX</td>\n",
       "      <td>MIA</td>\n",
       "      <td>20</td>\n",
       "      <td>...</td>\n",
       "      <td>258.0</td>\n",
       "      <td>2342</td>\n",
       "      <td>748.0</td>\n",
       "      <td>8.0</td>\n",
       "      <td>805</td>\n",
       "      <td>756.0</td>\n",
       "      <td>-9.0</td>\n",
       "      <td>0</td>\n",
       "      <td>0</td>\n",
       "      <td>NaN</td>\n",
       "    </tr>\n",
       "    <tr>\n",
       "      <th>4</th>\n",
       "      <td>2015</td>\n",
       "      <td>1</td>\n",
       "      <td>1</td>\n",
       "      <td>4</td>\n",
       "      <td>AS</td>\n",
       "      <td>135</td>\n",
       "      <td>N527AS</td>\n",
       "      <td>SEA</td>\n",
       "      <td>ANC</td>\n",
       "      <td>25</td>\n",
       "      <td>...</td>\n",
       "      <td>199.0</td>\n",
       "      <td>1448</td>\n",
       "      <td>254.0</td>\n",
       "      <td>5.0</td>\n",
       "      <td>320</td>\n",
       "      <td>259.0</td>\n",
       "      <td>-21.0</td>\n",
       "      <td>0</td>\n",
       "      <td>0</td>\n",
       "      <td>NaN</td>\n",
       "    </tr>\n",
       "  </tbody>\n",
       "</table>\n",
       "<p>5 rows × 26 columns</p>\n",
       "</div>"
      ],
      "text/plain": [
       "   YEAR  MONTH  DAY  DAY_OF_WEEK AIRLINE  FLIGHT_NUMBER TAIL_NUMBER  \\\n",
       "0  2015      1    1            4      AS             98      N407AS   \n",
       "1  2015      1    1            4      AA           2336      N3KUAA   \n",
       "2  2015      1    1            4      US            840      N171US   \n",
       "3  2015      1    1            4      AA            258      N3HYAA   \n",
       "4  2015      1    1            4      AS            135      N527AS   \n",
       "\n",
       "  ORIGIN_AIRPORT DESTINATION_AIRPORT  SCHEDULED_DEPARTURE  ...  AIR_TIME  \\\n",
       "0            ANC                 SEA                    5  ...     169.0   \n",
       "1            LAX                 PBI                   10  ...     263.0   \n",
       "2            SFO                 CLT                   20  ...     266.0   \n",
       "3            LAX                 MIA                   20  ...     258.0   \n",
       "4            SEA                 ANC                   25  ...     199.0   \n",
       "\n",
       "   DISTANCE  WHEELS_ON  TAXI_IN  SCHEDULED_ARRIVAL  ARRIVAL_TIME  \\\n",
       "0      1448      404.0      4.0                430         408.0   \n",
       "1      2330      737.0      4.0                750         741.0   \n",
       "2      2296      800.0     11.0                806         811.0   \n",
       "3      2342      748.0      8.0                805         756.0   \n",
       "4      1448      254.0      5.0                320         259.0   \n",
       "\n",
       "   ARRIVAL_DELAY  DIVERTED  CANCELLED  WEATHER_DELAY  \n",
       "0          -22.0         0          0            NaN  \n",
       "1           -9.0         0          0            NaN  \n",
       "2            5.0         0          0            NaN  \n",
       "3           -9.0         0          0            NaN  \n",
       "4          -21.0         0          0            NaN  \n",
       "\n",
       "[5 rows x 26 columns]"
      ]
     },
     "execution_count": 91,
     "metadata": {},
     "output_type": "execute_result"
    }
   ],
   "source": [
    "datasetSNulo.head()"
   ]
  },
  {
   "cell_type": "code",
   "execution_count": 92,
   "metadata": {},
   "outputs": [
    {
     "data": {
      "text/plain": [
       "(5819079, 26)"
      ]
     },
     "execution_count": 92,
     "metadata": {},
     "output_type": "execute_result"
    }
   ],
   "source": [
    "datasetSNulo.shape"
   ]
  },
  {
   "cell_type": "markdown",
   "metadata": {},
   "source": [
    "<p>O próximo tratamento foi na coluna \"AIR_TIME\", coluna que representa quanto tempo o avisão passou no ar, ou seja, entre a roda enconstar e desencostar do chão.\n",
    "<p>O tratamento escolhido foi usar a média, visto que os dados nulos eram menos de 2% o ideal seria tratar esses dados para conseguir reaproveitá-los.  "
   ]
  },
  {
   "cell_type": "code",
   "execution_count": 93,
   "metadata": {},
   "outputs": [
    {
     "data": {
      "text/plain": [
       "0          169.0\n",
       "1          263.0\n",
       "2          266.0\n",
       "3          258.0\n",
       "4          199.0\n",
       "           ...  \n",
       "5819074    272.0\n",
       "5819075    195.0\n",
       "5819076    197.0\n",
       "5819077    144.0\n",
       "5819078    189.0\n",
       "Name: AIR_TIME, Length: 5819079, dtype: float64"
      ]
     },
     "execution_count": 93,
     "metadata": {},
     "output_type": "execute_result"
    }
   ],
   "source": [
    "datasetSNulo['AIR_TIME']"
   ]
  },
  {
   "cell_type": "code",
   "execution_count": 94,
   "metadata": {},
   "outputs": [
    {
     "data": {
      "text/plain": [
       "113.51162809012519"
      ]
     },
     "execution_count": 94,
     "metadata": {},
     "output_type": "execute_result"
    }
   ],
   "source": [
    "datasetSNulo['AIR_TIME'].mean()"
   ]
  },
  {
   "cell_type": "code",
   "execution_count": 95,
   "metadata": {},
   "outputs": [],
   "source": [
    "datasetSNulo['AIR_TIME'] = datasetSNulo['AIR_TIME'].fillna(113.5)"
   ]
  },
  {
   "cell_type": "code",
   "execution_count": 96,
   "metadata": {},
   "outputs": [
    {
     "data": {
      "text/plain": [
       "113.5    105071\n",
       "64.0      49791\n",
       "63.0      49760\n",
       "62.0      49476\n",
       "65.0      49393\n",
       "          ...  \n",
       "679.0         1\n",
       "676.0         1\n",
       "678.0         1\n",
       "674.0         1\n",
       "672.0         1\n",
       "Name: AIR_TIME, Length: 676, dtype: int64"
      ]
     },
     "execution_count": 96,
     "metadata": {},
     "output_type": "execute_result"
    }
   ],
   "source": [
    "datasetSNulo['AIR_TIME'].value_counts(dropna=False)\n"
   ]
  },
  {
   "cell_type": "markdown",
   "metadata": {},
   "source": [
    "O próximo tratamento foi da coluna \"ARRIVAL_DELAY\", que se trata do ARRIVAL_TIME-SCHEDULED_ARRIVAL. Esta coluna possui valores negativos, que significa que o tempo de chegada foi adianta diante o previsto, zero seria o horário planejado e valores positivos seriam atrasos. \n",
    "<p>O método escolhido para tratamento foi a moda, visto que existem valores negativos a média não seria uma boa escolha, e por existirem menos de 2% de dados dropar poderia gerar perdar significativas."
   ]
  },
  {
   "cell_type": "code",
   "execution_count": 97,
   "metadata": {},
   "outputs": [
    {
     "data": {
      "text/plain": [
       "count    5.714008e+06\n",
       "mean     4.407057e+00\n",
       "std      3.927130e+01\n",
       "min     -8.700000e+01\n",
       "25%     -1.300000e+01\n",
       "50%     -5.000000e+00\n",
       "75%      8.000000e+00\n",
       "max      1.971000e+03\n",
       "Name: ARRIVAL_DELAY, dtype: float64"
      ]
     },
     "execution_count": 97,
     "metadata": {},
     "output_type": "execute_result"
    }
   ],
   "source": [
    "datasetSNulo['ARRIVAL_DELAY'].describe()\n"
   ]
  },
  {
   "cell_type": "code",
   "execution_count": 98,
   "metadata": {},
   "outputs": [
    {
     "data": {
      "text/plain": [
       "0   -8.0\n",
       "Name: ARRIVAL_DELAY, dtype: float64"
      ]
     },
     "execution_count": 98,
     "metadata": {},
     "output_type": "execute_result"
    }
   ],
   "source": [
    "datasetSNulo['ARRIVAL_DELAY'].mode()\n"
   ]
  },
  {
   "cell_type": "code",
   "execution_count": 99,
   "metadata": {},
   "outputs": [],
   "source": [
    "datasetSNulo['AIR_TIME'] = datasetSNulo['AIR_TIME'].fillna(-8.0)\n"
   ]
  },
  {
   "cell_type": "code",
   "execution_count": 100,
   "metadata": {},
   "outputs": [
    {
     "data": {
      "text/plain": [
       "113.5    105071\n",
       "64.0      49791\n",
       "63.0      49760\n",
       "62.0      49476\n",
       "65.0      49393\n",
       "          ...  \n",
       "679.0         1\n",
       "676.0         1\n",
       "678.0         1\n",
       "674.0         1\n",
       "672.0         1\n",
       "Name: AIR_TIME, Length: 676, dtype: int64"
      ]
     },
     "execution_count": 100,
     "metadata": {},
     "output_type": "execute_result"
    }
   ],
   "source": [
    "datasetSNulo['AIR_TIME'].value_counts(dropna=False)\n"
   ]
  },
  {
   "cell_type": "markdown",
   "metadata": {},
   "source": [
    "ELAPSED_TIME: AIR_TIME+TAXI_IN+TAXI_OUT"
   ]
  },
  {
   "cell_type": "code",
   "execution_count": 101,
   "metadata": {},
   "outputs": [
    {
     "data": {
      "text/plain": [
       "count    5.714008e+06\n",
       "mean     1.370062e+02\n",
       "std      7.421107e+01\n",
       "min      1.400000e+01\n",
       "25%      8.200000e+01\n",
       "50%      1.180000e+02\n",
       "75%      1.680000e+02\n",
       "max      7.660000e+02\n",
       "Name: ELAPSED_TIME, dtype: float64"
      ]
     },
     "execution_count": 101,
     "metadata": {},
     "output_type": "execute_result"
    }
   ],
   "source": [
    "datasetSNulo['ELAPSED_TIME'].describe()\n"
   ]
  },
  {
   "cell_type": "code",
   "execution_count": 102,
   "metadata": {},
   "outputs": [
    {
     "data": {
      "text/plain": [
       "137.00618917579393"
      ]
     },
     "execution_count": 102,
     "metadata": {},
     "output_type": "execute_result"
    }
   ],
   "source": [
    "datasetSNulo['ELAPSED_TIME'].mean()\n"
   ]
  },
  {
   "cell_type": "code",
   "execution_count": 103,
   "metadata": {},
   "outputs": [],
   "source": [
    "datasetSNulo['ELAPSED_TIME'] = datasetSNulo['ELAPSED_TIME'].fillna(137.00)\n"
   ]
  },
  {
   "cell_type": "code",
   "execution_count": 104,
   "metadata": {},
   "outputs": [
    {
     "data": {
      "text/plain": [
       "137.0    133885\n",
       "80.0      47441\n",
       "79.0      47049\n",
       "81.0      46966\n",
       "82.0      46679\n",
       "          ...  \n",
       "719.0         1\n",
       "709.0         1\n",
       "697.0         1\n",
       "731.0         1\n",
       "721.0         1\n",
       "Name: ELAPSED_TIME, Length: 712, dtype: int64"
      ]
     },
     "execution_count": 104,
     "metadata": {},
     "output_type": "execute_result"
    }
   ],
   "source": [
    "datasetSNulo['ELAPSED_TIME'].value_counts(dropna=False)\n"
   ]
  },
  {
   "cell_type": "markdown",
   "metadata": {},
   "source": [
    "A próxima coluna é sobre o momento em que as rodas da aeronave tocam no solo, \"WHEEL_ON\". O tratamento escolhido aqui foi usar a moda, visto que era um dado categórico, nao seria possivel tirar a média. O padrão dos dados estão sendo apresentados no formato 0404,0737 e assim por diante, que significa hora e minuto respectivamente. "
   ]
  },
  {
   "cell_type": "code",
   "execution_count": 105,
   "metadata": {},
   "outputs": [
    {
     "data": {
      "text/plain": [
       "0          404.0\n",
       "1          737.0\n",
       "2          800.0\n",
       "3          748.0\n",
       "4          254.0\n",
       "           ...  \n",
       "5819074    749.0\n",
       "5819075    427.0\n",
       "5819076    424.0\n",
       "5819077    327.0\n",
       "5819078    437.0\n",
       "Name: WHEELS_ON, Length: 5819079, dtype: float64"
      ]
     },
     "execution_count": 105,
     "metadata": {},
     "output_type": "execute_result"
    }
   ],
   "source": [
    "datasetSNulo['WHEELS_ON']"
   ]
  },
  {
   "cell_type": "code",
   "execution_count": 106,
   "metadata": {},
   "outputs": [
    {
     "data": {
      "text/plain": [
       "0    2045.0\n",
       "Name: WHEELS_ON, dtype: float64"
      ]
     },
     "execution_count": 106,
     "metadata": {},
     "output_type": "execute_result"
    }
   ],
   "source": [
    "datasetSNulo['WHEELS_ON'].mode()\n"
   ]
  },
  {
   "cell_type": "code",
   "execution_count": 107,
   "metadata": {},
   "outputs": [],
   "source": [
    "datasetSNulo['WHEELS_ON'] = datasetSNulo['WHEELS_ON'].fillna(2045.0)\n"
   ]
  },
  {
   "cell_type": "code",
   "execution_count": 108,
   "metadata": {},
   "outputs": [
    {
     "data": {
      "text/plain": [
       "2045.0    99082\n",
       "2050.0     6550\n",
       "1635.0     6503\n",
       "1640.0     6487\n",
       "2049.0     6481\n",
       "          ...  \n",
       "356.0        54\n",
       "400.0        54\n",
       "351.0        53\n",
       "307.0        50\n",
       "309.0        46\n",
       "Name: WHEELS_ON, Length: 1440, dtype: int64"
      ]
     },
     "execution_count": 108,
     "metadata": {},
     "output_type": "execute_result"
    }
   ],
   "source": [
    "datasetSNulo['WHEELS_ON'].value_counts(dropna=False)\n"
   ]
  },
  {
   "cell_type": "markdown",
   "metadata": {},
   "source": [
    "A próxima coluna a ser tratada foi a \"TAXI_IN\", a duração do tempo decorrido entre o wheel_on e a chegada ao portão no aeroporto de destino em horas. O método escolhido aqui para tratamento foi a média, visto que existiam menos de 2% de dados nulos"
   ]
  },
  {
   "cell_type": "code",
   "execution_count": 109,
   "metadata": {},
   "outputs": [
    {
     "data": {
      "text/plain": [
       "0           4.0\n",
       "1           4.0\n",
       "2          11.0\n",
       "3           8.0\n",
       "4           5.0\n",
       "           ... \n",
       "5819074     4.0\n",
       "5819075     3.0\n",
       "5819076     8.0\n",
       "5819077     3.0\n",
       "5819078     5.0\n",
       "Name: TAXI_IN, Length: 5819079, dtype: float64"
      ]
     },
     "execution_count": 109,
     "metadata": {},
     "output_type": "execute_result"
    }
   ],
   "source": [
    "datasetSNulo['TAXI_IN']\n"
   ]
  },
  {
   "cell_type": "code",
   "execution_count": 110,
   "metadata": {},
   "outputs": [
    {
     "data": {
      "text/plain": [
       "count    5.726566e+06\n",
       "mean     7.434971e+00\n",
       "std      5.638548e+00\n",
       "min      1.000000e+00\n",
       "25%      4.000000e+00\n",
       "50%      6.000000e+00\n",
       "75%      9.000000e+00\n",
       "max      2.480000e+02\n",
       "Name: TAXI_IN, dtype: float64"
      ]
     },
     "execution_count": 110,
     "metadata": {},
     "output_type": "execute_result"
    }
   ],
   "source": [
    "datasetSNulo['TAXI_IN'].describe()\n"
   ]
  },
  {
   "cell_type": "code",
   "execution_count": 111,
   "metadata": {},
   "outputs": [
    {
     "data": {
      "text/plain": [
       "7.4349708010001105"
      ]
     },
     "execution_count": 111,
     "metadata": {},
     "output_type": "execute_result"
    }
   ],
   "source": [
    "datasetSNulo['TAXI_IN'].mean()\n"
   ]
  },
  {
   "cell_type": "code",
   "execution_count": 112,
   "metadata": {},
   "outputs": [],
   "source": [
    "datasetSNulo['TAXI_IN'] = datasetSNulo['TAXI_IN'].fillna(7)\n"
   ]
  },
  {
   "cell_type": "code",
   "execution_count": 113,
   "metadata": {},
   "outputs": [
    {
     "data": {
      "text/plain": [
       "5.0      932909\n",
       "4.0      923558\n",
       "6.0      759134\n",
       "7.0      660133\n",
       "3.0      524797\n",
       "          ...  \n",
       "184.0         1\n",
       "173.0         1\n",
       "177.0         1\n",
       "180.0         1\n",
       "248.0         1\n",
       "Name: TAXI_IN, Length: 185, dtype: int64"
      ]
     },
     "execution_count": 113,
     "metadata": {},
     "output_type": "execute_result"
    }
   ],
   "source": [
    "datasetSNulo['TAXI_IN'].value_counts(dropna=False)\n"
   ]
  },
  {
   "cell_type": "markdown",
   "metadata": {},
   "source": [
    "O próximo tratamento foi da coluna \"ARRIVAL_TIME\" , que se da pela soma das colunas WHEELS_ON+TAXI_IN. O método de tratamento escolhido aqui foi a moda, visto que se trata de uma coluna categórica e o numero de nulos é próximo a 1,6%. "
   ]
  },
  {
   "cell_type": "code",
   "execution_count": 114,
   "metadata": {},
   "outputs": [
    {
     "data": {
      "text/plain": [
       "0          408.0\n",
       "1          741.0\n",
       "2          811.0\n",
       "3          756.0\n",
       "4          259.0\n",
       "           ...  \n",
       "5819074    753.0\n",
       "5819075    430.0\n",
       "5819076    432.0\n",
       "5819077    330.0\n",
       "5819078    442.0\n",
       "Name: ARRIVAL_TIME, Length: 5819079, dtype: float64"
      ]
     },
     "execution_count": 114,
     "metadata": {},
     "output_type": "execute_result"
    }
   ],
   "source": [
    "datasetSNulo['ARRIVAL_TIME']\n"
   ]
  },
  {
   "cell_type": "code",
   "execution_count": 115,
   "metadata": {},
   "outputs": [
    {
     "data": {
      "text/plain": [
       "0    1645.0\n",
       "Name: ARRIVAL_TIME, dtype: float64"
      ]
     },
     "execution_count": 115,
     "metadata": {},
     "output_type": "execute_result"
    }
   ],
   "source": [
    "datasetSNulo['ARRIVAL_TIME'].mode()\n"
   ]
  },
  {
   "cell_type": "code",
   "execution_count": 116,
   "metadata": {},
   "outputs": [],
   "source": [
    "datasetSNulo['ARRIVAL_TIME'] = datasetSNulo['ARRIVAL_TIME'].fillna(1645)\n"
   ]
  },
  {
   "cell_type": "code",
   "execution_count": 117,
   "metadata": {},
   "outputs": [
    {
     "data": {
      "text/plain": [
       "1645.0    99003\n",
       "2053.0     6485\n",
       "2051.0     6485\n",
       "2050.0     6482\n",
       "2056.0     6477\n",
       "          ...  \n",
       "409.0        51\n",
       "313.0        51\n",
       "332.0        51\n",
       "316.0        49\n",
       "339.0        48\n",
       "Name: ARRIVAL_TIME, Length: 1440, dtype: int64"
      ]
     },
     "execution_count": 117,
     "metadata": {},
     "output_type": "execute_result"
    }
   ],
   "source": [
    "datasetSNulo['ARRIVAL_TIME'].value_counts(dropna=False)\n"
   ]
  },
  {
   "cell_type": "markdown",
   "metadata": {},
   "source": [
    "A próxima coluna foi \"TAXI_OUT\" que é a duração do tempo decorrido entre a partida do portão do aeroporto de origem e wheels-off (rodas fora do chão). O tratamento para nulos escolhido foi a média. Nessa coluna cerca de 1,5% dos dados eram nulos. "
   ]
  },
  {
   "cell_type": "code",
   "execution_count": 118,
   "metadata": {},
   "outputs": [
    {
     "data": {
      "text/plain": [
       "0          21.0\n",
       "1          12.0\n",
       "2          16.0\n",
       "3          15.0\n",
       "4          11.0\n",
       "           ... \n",
       "5819074    22.0\n",
       "5819075    17.0\n",
       "5819076    17.0\n",
       "5819077    10.0\n",
       "5819078    14.0\n",
       "Name: TAXI_OUT, Length: 5819079, dtype: float64"
      ]
     },
     "execution_count": 118,
     "metadata": {},
     "output_type": "execute_result"
    }
   ],
   "source": [
    "datasetSNulo['TAXI_OUT']"
   ]
  },
  {
   "cell_type": "code",
   "execution_count": 119,
   "metadata": {},
   "outputs": [
    {
     "data": {
      "text/plain": [
       "16.07166225249702"
      ]
     },
     "execution_count": 119,
     "metadata": {},
     "output_type": "execute_result"
    }
   ],
   "source": [
    "datasetSNulo['TAXI_OUT'].mean()\n"
   ]
  },
  {
   "cell_type": "code",
   "execution_count": 120,
   "metadata": {},
   "outputs": [],
   "source": [
    "datasetSNulo['TAXI_OUT'] = datasetSNulo['TAXI_OUT'].fillna(16.0)"
   ]
  },
  {
   "cell_type": "code",
   "execution_count": 121,
   "metadata": {},
   "outputs": [
    {
     "data": {
      "text/plain": [
       "12.0     463189\n",
       "11.0     462159\n",
       "13.0     440243\n",
       "10.0     430606\n",
       "14.0     402938\n",
       "          ...  \n",
       "178.0         1\n",
       "200.0         1\n",
       "173.0         1\n",
       "169.0         1\n",
       "176.0         1\n",
       "Name: TAXI_OUT, Length: 184, dtype: int64"
      ]
     },
     "execution_count": 121,
     "metadata": {},
     "output_type": "execute_result"
    }
   ],
   "source": [
    "datasetSNulo['TAXI_OUT'].value_counts(dropna=False)\n"
   ]
  },
  {
   "cell_type": "markdown",
   "metadata": {},
   "source": [
    "A próxima coluna a ser tratada é a \"WHEELS_OFF\" que diz respeito ao ponto de tempo em que as rodas da aeronave saem do chão, em minutos e seguntos. A forma de tratamento escolhida foi usar a moda visto que o tipo de dado apresentado pode ser entendido como categorico. A quantidade de dados nulos estava em cerca de 1,5%.  "
   ]
  },
  {
   "cell_type": "code",
   "execution_count": 122,
   "metadata": {},
   "outputs": [
    {
     "data": {
      "text/plain": [
       "0    15.0\n",
       "1    14.0\n",
       "2    34.0\n",
       "3    30.0\n",
       "4    35.0\n",
       "5    38.0\n",
       "6    30.0\n",
       "7    57.0\n",
       "8    36.0\n",
       "9    45.0\n",
       "Name: WHEELS_OFF, dtype: float64"
      ]
     },
     "execution_count": 122,
     "metadata": {},
     "output_type": "execute_result"
    }
   ],
   "source": [
    "datasetSNulo['WHEELS_OFF'].head(10)\n"
   ]
  },
  {
   "cell_type": "code",
   "execution_count": 123,
   "metadata": {},
   "outputs": [
    {
     "data": {
      "text/plain": [
       "dtype('float64')"
      ]
     },
     "execution_count": 123,
     "metadata": {},
     "output_type": "execute_result"
    }
   ],
   "source": [
    "datasetSNulo['WHEELS_OFF'].dtype\n"
   ]
  },
  {
   "cell_type": "code",
   "execution_count": 124,
   "metadata": {},
   "outputs": [
    {
     "data": {
      "text/plain": [
       "0    610.0\n",
       "Name: WHEELS_OFF, dtype: float64"
      ]
     },
     "execution_count": 124,
     "metadata": {},
     "output_type": "execute_result"
    }
   ],
   "source": [
    "datasetSNulo['WHEELS_OFF'].mode()\n"
   ]
  },
  {
   "cell_type": "code",
   "execution_count": 125,
   "metadata": {},
   "outputs": [
    {
     "data": {
      "text/plain": [
       "count    5.730032e+06\n",
       "mean     1.357171e+03\n",
       "std      4.980094e+02\n",
       "min      1.000000e+00\n",
       "25%      9.350000e+02\n",
       "50%      1.343000e+03\n",
       "75%      1.754000e+03\n",
       "max      2.400000e+03\n",
       "Name: WHEELS_OFF, dtype: float64"
      ]
     },
     "execution_count": 125,
     "metadata": {},
     "output_type": "execute_result"
    }
   ],
   "source": [
    "datasetSNulo['WHEELS_OFF'].describe()\n"
   ]
  },
  {
   "cell_type": "code",
   "execution_count": 129,
   "metadata": {},
   "outputs": [],
   "source": [
    "datasetSNulo['WHEELS_OFF'] = datasetSNulo['WHEELS_OFF'].fillna(610.0)\n"
   ]
  },
  {
   "cell_type": "code",
   "execution_count": 130,
   "metadata": {},
   "outputs": [
    {
     "data": {
      "text/plain": [
       "610.0    98360\n",
       "609.0     9246\n",
       "608.0     9088\n",
       "611.0     8870\n",
       "607.0     8678\n",
       "         ...  \n",
       "452.0        6\n",
       "402.0        5\n",
       "446.0        5\n",
       "407.0        5\n",
       "450.0        3\n",
       "Name: WHEELS_OFF, Length: 1440, dtype: int64"
      ]
     },
     "execution_count": 130,
     "metadata": {},
     "output_type": "execute_result"
    }
   ],
   "source": [
    "datasetSNulo['WHEELS_OFF'].value_counts(dropna=False)\n"
   ]
  },
  {
   "cell_type": "markdown",
   "metadata": {},
   "source": [
    "A próxima coluna a ser tratada foi \"DEPARTURE_DELAY\" que mostra o tempo total de delay no departamento. Valores negativos significam que houve x tempo de adiantamento, já valores positivos são referentes ao delay. A forma de tratar foi usando a moda, visto que por conter numeros negativos a média não seria acertiva. A quantidade de nulos na coluna estava em cerca de 1,5%."
   ]
  },
  {
   "cell_type": "code",
   "execution_count": 131,
   "metadata": {},
   "outputs": [
    {
     "data": {
      "text/plain": [
       "0   -11.0\n",
       "1    -8.0\n",
       "2    -2.0\n",
       "3    -5.0\n",
       "4    -1.0\n",
       "5    -5.0\n",
       "6    -6.0\n",
       "7    14.0\n",
       "8   -11.0\n",
       "9     3.0\n",
       "Name: DEPARTURE_DELAY, dtype: float64"
      ]
     },
     "execution_count": 131,
     "metadata": {},
     "output_type": "execute_result"
    }
   ],
   "source": [
    "datasetSNulo['DEPARTURE_DELAY'].head(10)\n"
   ]
  },
  {
   "cell_type": "code",
   "execution_count": 132,
   "metadata": {},
   "outputs": [
    {
     "data": {
      "text/plain": [
       "9.370158275198389"
      ]
     },
     "execution_count": 132,
     "metadata": {},
     "output_type": "execute_result"
    }
   ],
   "source": [
    "datasetSNulo['DEPARTURE_DELAY'].mean() #por conter valores negativos a média seria um valor errado\n"
   ]
  },
  {
   "cell_type": "code",
   "execution_count": 133,
   "metadata": {},
   "outputs": [
    {
     "data": {
      "text/plain": [
       "0   -3.0\n",
       "Name: DEPARTURE_DELAY, dtype: float64"
      ]
     },
     "execution_count": 133,
     "metadata": {},
     "output_type": "execute_result"
    }
   ],
   "source": [
    "datasetSNulo['DEPARTURE_DELAY'].mode()\n"
   ]
  },
  {
   "cell_type": "code",
   "execution_count": 134,
   "metadata": {},
   "outputs": [
    {
     "data": {
      "text/plain": [
       "count    5.732926e+06\n",
       "mean     9.370158e+00\n",
       "std      3.708094e+01\n",
       "min     -8.200000e+01\n",
       "25%     -5.000000e+00\n",
       "50%     -2.000000e+00\n",
       "75%      7.000000e+00\n",
       "max      1.988000e+03\n",
       "Name: DEPARTURE_DELAY, dtype: float64"
      ]
     },
     "execution_count": 134,
     "metadata": {},
     "output_type": "execute_result"
    }
   ],
   "source": [
    "datasetSNulo['DEPARTURE_DELAY'].describe()\n"
   ]
  },
  {
   "cell_type": "code",
   "execution_count": 135,
   "metadata": {},
   "outputs": [],
   "source": [
    "datasetSNulo['DEPARTURE_DELAY'] = datasetSNulo['DEPARTURE_DELAY'].fillna(-3.0)\n"
   ]
  },
  {
   "cell_type": "code",
   "execution_count": 136,
   "metadata": {},
   "outputs": [
    {
     "data": {
      "text/plain": [
       "-3.0       541560\n",
       "-4.0       444053\n",
       "-5.0       438844\n",
       "-2.0       435237\n",
       "-1.0       387475\n",
       "            ...  \n",
       " 1079.0         1\n",
       " 1347.0         1\n",
       "-61.0           1\n",
       " 859.0          1\n",
       " 1649.0         1\n",
       "Name: DEPARTURE_DELAY, Length: 1217, dtype: int64"
      ]
     },
     "execution_count": 136,
     "metadata": {},
     "output_type": "execute_result"
    }
   ],
   "source": [
    "datasetSNulo['DEPARTURE_DELAY'].value_counts(dropna=False)\n"
   ]
  },
  {
   "cell_type": "markdown",
   "metadata": {},
   "source": [
    "A proxima coluna é a \"DEPARTURE_TIME\", se trata de WHEEL_OFF - TAXI_OUT. É uma coluna que traz um dado de horas, podendo ser tratada como categorica, por isso o método de tratamento de nulos escolhido foi moda. O valor de nulos estava próximo de 1,5%. "
   ]
  },
  {
   "cell_type": "code",
   "execution_count": 137,
   "metadata": {},
   "outputs": [
    {
     "data": {
      "text/plain": [
       "0    2354.0\n",
       "1       2.0\n",
       "2      18.0\n",
       "3      15.0\n",
       "4      24.0\n",
       "5      20.0\n",
       "6      19.0\n",
       "7      44.0\n",
       "8      19.0\n",
       "9      33.0\n",
       "Name: DEPARTURE_TIME, dtype: float64"
      ]
     },
     "execution_count": 137,
     "metadata": {},
     "output_type": "execute_result"
    }
   ],
   "source": [
    "datasetSNulo['DEPARTURE_TIME'].head(10)\n"
   ]
  },
  {
   "cell_type": "code",
   "execution_count": 140,
   "metadata": {},
   "outputs": [
    {
     "data": {
      "text/plain": [
       "0    555.0\n",
       "Name: DEPARTURE_TIME, dtype: float64"
      ]
     },
     "execution_count": 140,
     "metadata": {},
     "output_type": "execute_result"
    }
   ],
   "source": [
    "datasetSNulo['DEPARTURE_TIME'].mode()\n",
    "\n"
   ]
  },
  {
   "cell_type": "code",
   "execution_count": 139,
   "metadata": {},
   "outputs": [
    {
     "data": {
      "text/plain": [
       "count    5.732926e+06\n",
       "mean     1.335204e+03\n",
       "std      4.964233e+02\n",
       "min      1.000000e+00\n",
       "25%      9.210000e+02\n",
       "50%      1.330000e+03\n",
       "75%      1.740000e+03\n",
       "max      2.400000e+03\n",
       "Name: DEPARTURE_TIME, dtype: float64"
      ]
     },
     "execution_count": 139,
     "metadata": {},
     "output_type": "execute_result"
    }
   ],
   "source": [
    "datasetSNulo['DEPARTURE_TIME'].describe()\n"
   ]
  },
  {
   "cell_type": "code",
   "execution_count": 141,
   "metadata": {},
   "outputs": [],
   "source": [
    "datasetSNulo['DEPARTURE_TIME'] = datasetSNulo['DEPARTURE_TIME'].fillna(555.0)\n"
   ]
  },
  {
   "cell_type": "code",
   "execution_count": 142,
   "metadata": {},
   "outputs": [
    {
     "data": {
      "text/plain": [
       "555.0    100982\n",
       "556.0     13976\n",
       "557.0     13616\n",
       "558.0     12954\n",
       "655.0     12391\n",
       "          ...  \n",
       "338.0         6\n",
       "428.0         6\n",
       "438.0         4\n",
       "433.0         3\n",
       "403.0         3\n",
       "Name: DEPARTURE_TIME, Length: 1440, dtype: int64"
      ]
     },
     "execution_count": 142,
     "metadata": {},
     "output_type": "execute_result"
    }
   ],
   "source": [
    "datasetSNulo['DEPARTURE_TIME'].value_counts(dropna=False)\n"
   ]
  },
  {
   "cell_type": "code",
   "execution_count": 128,
   "metadata": {},
   "outputs": [],
   "source": [
    "# arrival dalay = negativo chegou adiantado, positivo atrasado\n",
    "# motivo do atraso - variavel resposta \n"
   ]
  }
 ],
 "metadata": {
  "kernelspec": {
   "display_name": "Python 3.10.6 64-bit ('3.10.6')",
   "language": "python",
   "name": "python3"
  },
  "language_info": {
   "codemirror_mode": {
    "name": "ipython",
    "version": 3
   },
   "file_extension": ".py",
   "mimetype": "text/x-python",
   "name": "python",
   "nbconvert_exporter": "python",
   "pygments_lexer": "ipython3",
   "version": "3.10.6"
  },
  "orig_nbformat": 4,
  "vscode": {
   "interpreter": {
    "hash": "cdc06403b8532474a0551647edd7ff56cef0ba7f12029021e2e88dc0bb089264"
   }
  }
 },
 "nbformat": 4,
 "nbformat_minor": 2
}
